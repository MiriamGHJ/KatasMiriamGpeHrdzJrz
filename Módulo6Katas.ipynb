{
 "cells": [
  {
   "cell_type": "code",
   "execution_count": 7,
   "metadata": {},
   "outputs": [
    {
     "name": "stdout",
     "output_type": "stream",
     "text": [
      "El numero de planetas son:  8 dentro del sistema solar\n"
     ]
    }
   ],
   "source": [
    "#En primer lugar, crea una variable denominada planets. Agrega los ocho planetas (sin Plutón) a la lista.\n",
    "# A continuación, muestra el número de planetas.\n",
    "# Creamos la lista planets y la mostramos\n",
    "\n",
    "planets=['Mercurio', 'Venus','Tierra','Marte','Jupiter','Saturno','Urano', 'Neptuno']\n",
    "n_planets=len(planets)\n",
    "\n",
    "print('El numero de planetas son: ', n_planets, 'dentro del sistema solar')"
   ]
  },
  {
   "cell_type": "code",
   "execution_count": 8,
   "metadata": {},
   "outputs": [
    {
     "name": "stdout",
     "output_type": "stream",
     "text": [
      "El numero de planetas son:  9 dentro del sistema solar\n",
      "El último planeta es:  Plutón\n"
     ]
    }
   ],
   "source": [
    "#Agrega a Plutón a la lista que creaste. Luego muestra tanto el número de planetas como el último planeta de la lista.\n",
    "# Agregamos a plutón y mostramos el último elemento\n",
    "\n",
    "planets=['Mercurio', 'Venus','Tierra','Marte','Jupiter','Saturno','Urano', 'Neptuno']\n",
    "planets.append('Plutón')\n",
    "n_planets=len(planets)\n",
    "\n",
    "print('El numero de planetas son: ', n_planets, 'dentro del sistema solar')\n",
    "print('El último planeta es: ', planets[-1])\n"
   ]
  },
  {
   "cell_type": "markdown",
   "metadata": {},
   "source": [
    "Ejercicio 2: Trabajando con datos de una lista"
   ]
  },
  {
   "cell_type": "code",
   "execution_count": 19,
   "metadata": {},
   "outputs": [],
   "source": [
    "#Es posible que debas trabajar con diferentes secciones de una lista. En nuestro ejemplo, queremos mostrar planetas\n",
    "# más cerca y más lejos del sol de un planeta que el usuario ingresa por teclado.\n",
    "#Comienza agregando el código para crear una lista con los planetas.\n",
    "\n",
    "# Lista de planetas\n",
    "planets=['Mercurio', 'Venus','Tierra','Marte','Jupiter','Saturno','Urano', 'Neptuno']\n"
   ]
  },
  {
   "cell_type": "code",
   "execution_count": 59,
   "metadata": {},
   "outputs": [
    {
     "name": "stdout",
     "output_type": "stream",
     "text": [
      "['Mercurio', 'Venus', 'Tierra', 'Marte', 'Jupiter', 'Saturno'] son los planetas antes que:  Urano y son los más cercanos al sol\n",
      "['Neptuno'] son los planetas después de:  Urano y son los más lejanos del sol\n"
     ]
    }
   ],
   "source": [
    "#A continuación, agrega el código para solicitar al usuario un nombre. Debido a que las cadenas distinguen entre\n",
    "# mayúsculas y minúsculas en Python, pídale al usuario que use una letra mayúscula\n",
    "# para comenzar el nombre del planeta.\n",
    "\n",
    "ingresar=input('Ingrese nombre de un planeta con la inicial en mayúscula: ')\n",
    "\n",
    "#print(ingresar)\n",
    "#Encuentra el planeta en la lista\n",
    "ix=planets.index(ingresar)\n",
    "#print(ix)\n",
    "#Mostrar planetas más cercanos al sol que el que el usuario ingresó\n",
    "\n",
    "antes=planets[0:ix]\n",
    "print(antes, 'son los planetas antes que: ', ingresar, 'y son los más cercanos al sol')\n",
    "#Mostrar planetas más alejados del sol que el que el usuario ingresó\n",
    "despues=planets[ix:8]\n",
    "print(planets[ix+1:], 'son los planetas después de: ', ingresar, 'y son los más lejanos del sol')"
   ]
  }
 ],
 "metadata": {
  "interpreter": {
   "hash": "9dd94bd980b5e80bf82f6e7771f6f3bd364316cfb59f0f30ea22e6cee937387b"
  },
  "kernelspec": {
   "display_name": "Python 3.10.2 64-bit",
   "language": "python",
   "name": "python3"
  },
  "language_info": {
   "codemirror_mode": {
    "name": "ipython",
    "version": 3
   },
   "file_extension": ".py",
   "mimetype": "text/x-python",
   "name": "python",
   "nbconvert_exporter": "python",
   "pygments_lexer": "ipython3",
   "version": "3.10.2"
  },
  "orig_nbformat": 4
 },
 "nbformat": 4,
 "nbformat_minor": 2
}
