{
 "cells": [
  {
   "cell_type": "code",
   "execution_count": 4,
   "metadata": {},
   "outputs": [
    {
     "data": {
      "text/plain": [
       "['Interesting facts about the Moon',\n",
       " \" The Moon is Earth's only satellite\",\n",
       " ' There are several interesting facts about the Moon and how it affects life here on Earth',\n",
       " ' \\nOn average, the Moon moves 4cm away from the Earth every year',\n",
       " ' This yearly drift is not significant enough to cause immediate effects on Earth',\n",
       " ' The highest daylight temperature of the Moon is 127 C',\n",
       " '']"
      ]
     },
     "execution_count": 4,
     "metadata": {},
     "output_type": "execute_result"
    }
   ],
   "source": [
    "                            #Ejercicio 1: Transformar cadenas\n",
    "#Primero, divide el texto en cada oración para trabajar con su contenido:\n",
    "text = \"\"\"Interesting facts about the Moon. The Moon is Earth's only satellite. There are several interesting facts about the Moon and how it affects life here on Earth. \n",
    "On average, the Moon moves 4cm away from the Earth every year. This yearly drift is not significant enough to cause immediate effects on Earth. The highest daylight temperature of the Moon is 127 C.\"\"\"\n",
    "\n",
    "text.split('.')\n"
   ]
  },
  {
   "cell_type": "code",
   "execution_count": 3,
   "metadata": {},
   "outputs": [
    {
     "data": {
      "text/plain": [
       "164"
      ]
     },
     "execution_count": 3,
     "metadata": {},
     "output_type": "execute_result"
    }
   ],
   "source": [
    "#Ahora, define algunas palabras clave para búsqueda que te ayudarán a determinar si una oración contiene un hecho.\n",
    "# Define las palabras pista: average, temperature y distance suenan bien\n",
    "\n",
    "text.find('average')\n"
   ]
  },
  {
   "cell_type": "code",
   "execution_count": 4,
   "metadata": {},
   "outputs": [
    {
     "data": {
      "text/plain": [
       "326"
      ]
     },
     "execution_count": 4,
     "metadata": {},
     "output_type": "execute_result"
    }
   ],
   "source": [
    "text.find('temperature')"
   ]
  },
  {
   "cell_type": "code",
   "execution_count": null,
   "metadata": {},
   "outputs": [],
   "source": []
  },
  {
   "cell_type": "code",
   "execution_count": 5,
   "metadata": {},
   "outputs": [
    {
     "data": {
      "text/plain": [
       "-1"
      ]
     },
     "execution_count": 5,
     "metadata": {},
     "output_type": "execute_result"
    }
   ],
   "source": [
    "text.find('distance')"
   ]
  },
  {
   "cell_type": "code",
   "execution_count": 5,
   "metadata": {},
   "outputs": [
    {
     "name": "stdout",
     "output_type": "stream",
     "text": [
      " \n",
      "On average, the Moon moves 4cm away from the Earth every year\n",
      " The highest daylight temperature of the Moon is 127 C\n"
     ]
    }
   ],
   "source": [
    "\n",
    "#Cre un bucle para imprimir solo datos sobre la Luna que estén relacionados con las palabras clave definidas anteriormente:\n",
    "# Ciclo for para recorrer la cadena\n",
    "p_a=['average','temperature', 'distance'] \n",
    "oraciones= text.split('.')  #usamos el texto con las separaciones\n",
    "\n",
    "for i in oraciones:\n",
    "    for i2 in p_a:\n",
    "        if i2 in i:\n",
    "            print(i)\n",
    "\n",
    "    \n",
    "\n",
    "\n"
   ]
  },
  {
   "cell_type": "code",
   "execution_count": null,
   "metadata": {},
   "outputs": [
    {
     "name": "stdout",
     "output_type": "stream",
     "text": [
      "['pluton', 'Tierra', 'pato', 'perro', 'gato', 'pelota', 'jupiter', 'saturno']\n",
      "pato\n",
      "perro\n",
      "gato\n"
     ]
    }
   ],
   "source": [
    "#practica 2 \n",
    "texto=\"pluton.Tierra.pato.perro.gato.pelota.jupiter.saturno\"\n",
    "textodividido= texto.split(\".\")\n",
    "print(textodividido)\n",
    "\n",
    "claves_animales=['pato', 'perro','gato']\n",
    "\n",
    "for i in textodividido:\n",
    "    for i2 in claves_animales:\n",
    "        if i2 in i:\n",
    "            print(i)"
   ]
  },
  {
   "cell_type": "code",
   "execution_count": 16,
   "metadata": {},
   "outputs": [
    {
     "name": "stdout",
     "output_type": "stream",
     "text": [
      " \n",
      "On average, the Moon moves 4cm away from the Earth every year\n",
      " The highest daylight temperature of the Moon is 127 Celsius\n"
     ]
    }
   ],
   "source": [
    "\n",
    "p_a=['average','temperature', 'distance'] \n",
    "oraciones= text.split('.')  #usamos el texto con las separaciones\n",
    "\n",
    "for i in oraciones:\n",
    "    for i2 in p_a:\n",
    "        if i2 in i:\n",
    "            print(i.replace('C','Celsius'))\n",
    "\n",
    "\n"
   ]
  },
  {
   "cell_type": "markdown",
   "metadata": {},
   "source": [
    "Ejercicio 2"
   ]
  },
  {
   "cell_type": "code",
   "execution_count": 4,
   "metadata": {},
   "outputs": [],
   "source": [
    "                       #Ejercicio 2: Formateando Cadenas\n",
    "# Datos con los que vas a trabajar\n",
    "name = \"Moon\"\n",
    "gravity = 0.00162 # in kms\n",
    "planet = \"Earth\"\n",
    "#print(gravity)"
   ]
  },
  {
   "cell_type": "code",
   "execution_count": 15,
   "metadata": {},
   "outputs": [
    {
     "data": {
      "text/plain": [
       "'La Gravedad En La Tierra Y La Luna'"
      ]
     },
     "execution_count": 15,
     "metadata": {},
     "output_type": "execute_result"
    }
   ],
   "source": [
    "#Primero, crea un título para el texto. Debido a que este texto trata sobre la gravedad en la Tierra y\n",
    "# la Luna, úsalo para crear un título significativo. Utiliza las variables en lugar de escribir.\n",
    "\n",
    "titulo= 'la gravedad en la tierra y la luna'\n",
    "\n",
    "f'{titulo.title()}'"
   ]
  },
  {
   "cell_type": "code",
   "execution_count": 24,
   "metadata": {},
   "outputs": [
    {
     "name": "stdout",
     "output_type": "stream",
     "text": [
      " Planeta: Earth \n",
      " Graverdad: 1.62  metros\n",
      " Nombre: Moon\n"
     ]
    }
   ],
   "source": [
    "#Ahora crea una plantilla de cadena multilínea para contener el resto de la información. En lugar de usar kilómetros,\n",
    "# debes convertir la distancia a metros multiplicando por 1,000.\n",
    "\n",
    "gravity = 0.00162 # en metros\n",
    "\n",
    "print(f' Planeta: {planet} \\n Graverdad: {round(gravity*1000,10)}  metros\\n Nombre: {name}')\n"
   ]
  },
  {
   "cell_type": "code",
   "execution_count": 33,
   "metadata": {},
   "outputs": [
    {
     "name": "stdout",
     "output_type": "stream",
     "text": [
      "La Gravedad En La Tierra Y La Luna\n",
      " ---------------------------\n",
      " Planet: Earth \n",
      " Gravity: 1.62  mtrs\n",
      " Name: Moon\n"
     ]
    }
   ],
   "source": [
    "#Finalmente, usa ambas variables para unir el título y los hechos.\n",
    "\n",
    "print(f'{titulo.title()}\\n ---------------------------\\n Planet: {planet} \\n Gravity: {round(gravity*1000,10)}  mtrs\\n Name: {name}')\n"
   ]
  },
  {
   "cell_type": "code",
   "execution_count": 29,
   "metadata": {},
   "outputs": [
    {
     "name": "stdout",
     "output_type": "stream",
     "text": [
      "La Gravedad En La Tierra Y La Luna\n",
      " ---------------------------------------------\n",
      " Planet: Marte  \n",
      " Gravity: 1.43  mtrs\n",
      " Name: Ganímedes\n"
     ]
    }
   ],
   "source": [
    "#Ahora usa información de una luna diferente para ver si la plantilla todavía funciona.\n",
    "#Datos muestra:\n",
    "planeta = 'Marte '\n",
    "gravedad  = 0.00143\n",
    "nombre = 'Ganímedes'\n",
    "\n",
    "print(f'{titulo.title()}\\n ---------------------------------------------\\n Planet: {planeta} \\n Gravity: {round(gravedad*1000,10)}  mtrs\\n Name: {nombre}')"
   ]
  },
  {
   "cell_type": "code",
   "execution_count": 32,
   "metadata": {},
   "outputs": [
    {
     "name": "stdout",
     "output_type": "stream",
     "text": [
      "Datos de gravedad sobre: Ganímedes\n",
      "-----------------------------------------------\n",
      "Nombre del planeta: Marte \n",
      "Gravedad: 1.4300000000000002\n"
     ]
    }
   ],
   "source": [
    "# vuelva a hacer la plantilla para utilizar .format():\n",
    "planeta = 'Marte '\n",
    "gravedad  = 0.00143\n",
    "nombre = 'Ganímedes'\n",
    "plantilla2=\"\"\"Datos de gravedad sobre: {nombre}\n",
    "-----------------------------------------------\n",
    "Nombre del planeta: {planeta}\n",
    "Gravedad: {gravedad}\"\"\"\n",
    "\n",
    "print(plantilla2.format(planeta=planeta,gravedad=gravedad*1000,nombre=nombre))"
   ]
  }
 ],
 "metadata": {
  "interpreter": {
   "hash": "9dd94bd980b5e80bf82f6e7771f6f3bd364316cfb59f0f30ea22e6cee937387b"
  },
  "kernelspec": {
   "display_name": "Python 3.10.2 64-bit",
   "language": "python",
   "name": "python3"
  },
  "language_info": {
   "codemirror_mode": {
    "name": "ipython",
    "version": 3
   },
   "file_extension": ".py",
   "mimetype": "text/x-python",
   "name": "python",
   "nbconvert_exporter": "python",
   "pygments_lexer": "ipython3",
   "version": "3.10.2"
  },
  "orig_nbformat": 4
 },
 "nbformat": 4,
 "nbformat_minor": 2
}
