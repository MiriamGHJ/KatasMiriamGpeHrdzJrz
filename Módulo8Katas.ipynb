{
 "cells": [
  {
   "cell_type": "code",
   "execution_count": 16,
   "metadata": {},
   "outputs": [],
   "source": [
    "#Ejercicio 1: Creación de diccionarios de Python\n",
    "#Ejercicio: Crear y modificar un diccionario de Python\n",
    "\n",
    "#Agrega el código para crear un nuevo diccionario denominado 'planet'. Rellena con la siguiente información:\n",
    "#name: Mars\n",
    "#moons: 2\n",
    "# Crea un diccionario llamado planet con los datos propuestos\n",
    "\n",
    "\n",
    "planet = {\n",
    "    'Name': 'Mars',\n",
    "    'moons': 2\n",
    "}"
   ]
  },
  {
   "cell_type": "code",
   "execution_count": 17,
   "metadata": {},
   "outputs": [
    {
     "name": "stdout",
     "output_type": "stream",
     "text": [
      "El nombre del planeta es:  Mars \n",
      "La cantidad de lunas es:  2\n"
     ]
    }
   ],
   "source": [
    "#Para recuperar valores, puede utilizar el método get o corchetes ([ ]) con el nombre de la clave que desea recuperar.\n",
    "\n",
    "print('El nombre del planeta es: ', planet.get('Name'), '\\nLa cantidad de lunas es: ', planet.get('moons'))\n",
    "\n",
    "#print('El nombre del planeta es: ' + str(planet['Name']) + '\\nCantidad de lunas: ' + str(planet['moons']))"
   ]
  },
  {
   "cell_type": "code",
   "execution_count": 18,
   "metadata": {},
   "outputs": [],
   "source": [
    "#Agrega un nuevo valor con una clave de 'circunferencia (km)'. Este nuevo valor debería almacenar\n",
    "# un diccionario con las dos circunferencias del planeta:\n",
    "#polar: 6752\n",
    "#equatorial: 6792\n",
    "# Agrega la clave circunferencia con los datos proporcionados previamente\n",
    "\n",
    "planet['circumference (km)'] = {\n",
    "    'polar': 6752,\n",
    "    'equatorial': 6792\n",
    "}\n"
   ]
  },
  {
   "cell_type": "code",
   "execution_count": 19,
   "metadata": {},
   "outputs": [
    {
     "name": "stdout",
     "output_type": "stream",
     "text": [
      "El planeta Mars tiene una circunferencia polar de: 6752 km\n"
     ]
    }
   ],
   "source": [
    "## Imprime el nombre del planeta con su circunferencia polar.\n",
    "\n",
    "print(f'El planeta {planet[\"Name\"]} tiene una circunferencia polar de: {planet[\"circumference (km)\"][\"polar\"]} km')"
   ]
  },
  {
   "cell_type": "markdown",
   "metadata": {},
   "source": [
    "Ejercicio 2\n",
    "\n",
    "Ejercicio: Cálculo de valores"
   ]
  },
  {
   "cell_type": "code",
   "execution_count": 20,
   "metadata": {},
   "outputs": [],
   "source": [
    "#En este escenario, calcularás tanto el número total de lunas en el sistema solar como el número\n",
    "# promedio de lunas que tiene un planeta.\n",
    "# Planets and moons\n",
    "\n",
    "planet_moons = {\n",
    "    'mercury': 0,\n",
    "    'venus': 0,\n",
    "    'earth': 1,\n",
    "    'mars': 2,\n",
    "    'jupiter': 79,\n",
    "    'saturn': 82,\n",
    "    'uranus': 27,\n",
    "    'neptune': 14,\n",
    "    'pluto': 5,\n",
    "    'haumea': 2,\n",
    "    'makemake': 1,\n",
    "    'eris': 1\n",
    "}\n",
    "\n"
   ]
  },
  {
   "cell_type": "code",
   "execution_count": 21,
   "metadata": {},
   "outputs": [],
   "source": [
    "#Agrega el código a continuación para determinar el número de lunas. Comienza almacenando el valor values\n",
    "# de planet_moons en una variable denominada moons. A continuación, almacena el número de planetas en una\n",
    "# variable denominada planets.\n",
    "\n",
    "valores= planet_moons.values()\n",
    "planets=len(planet_moons.keys())\n"
   ]
  },
  {
   "cell_type": "code",
   "execution_count": 22,
   "metadata": {},
   "outputs": [
    {
     "name": "stdout",
     "output_type": "stream",
     "text": [
      "0\n",
      "0\n",
      "1\n",
      "3\n",
      "82\n",
      "164\n",
      "191\n",
      "205\n",
      "210\n",
      "212\n",
      "213\n",
      "214\n"
     ]
    }
   ],
   "source": [
    "#Agrega el código para contar el número de lunas. Puedes hacerlo creando un ciclo for para iterar a través\n",
    "# de las lunas moons y agregándolos a una variable denominada total_moons. \n",
    "total_moons=0\n",
    "\n",
    "for i in valores:\n",
    "    total_moons= total_moons + i\n",
    "    #print(i)\n",
    "    print(total_moons)\n",
    "\n",
    "   "
   ]
  },
  {
   "cell_type": "code",
   "execution_count": 23,
   "metadata": {},
   "outputs": [
    {
     "name": "stdout",
     "output_type": "stream",
     "text": [
      "17.833333333333332\n"
     ]
    }
   ],
   "source": [
    "#Finalmente calcule el promedio dividiendo total_moons por planets e imprimiendo los resultados.\n",
    "\n",
    "Promedio=total_moons/planets\n",
    "print(Promedio)"
   ]
  }
 ],
 "metadata": {
  "interpreter": {
   "hash": "9dd94bd980b5e80bf82f6e7771f6f3bd364316cfb59f0f30ea22e6cee937387b"
  },
  "kernelspec": {
   "display_name": "Python 3.10.2 64-bit",
   "language": "python",
   "name": "python3"
  },
  "language_info": {
   "codemirror_mode": {
    "name": "ipython",
    "version": 3
   },
   "file_extension": ".py",
   "mimetype": "text/x-python",
   "name": "python",
   "nbconvert_exporter": "python",
   "pygments_lexer": "ipython3",
   "version": "3.10.2"
  },
  "orig_nbformat": 4
 },
 "nbformat": 4,
 "nbformat_minor": 2
}
