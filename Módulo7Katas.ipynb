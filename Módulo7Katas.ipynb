{
 "cells": [
  {
   "cell_type": "code",
   "execution_count": 20,
   "metadata": {},
   "outputs": [],
   "source": [
    "#Comienza agregando dos variables, una para la entrada del usuario, con el nombre new_planet,\n",
    "# y otra variable para la lista de planetas, denominada planets.\n",
    "# Declara dos variables\n",
    "\n",
    "new_planet=\"\"\n",
    "planets=[]"
   ]
  },
  {
   "cell_type": "code",
   "execution_count": 21,
   "metadata": {},
   "outputs": [
    {
     "name": "stdout",
     "output_type": "stream",
     "text": [
      "Para salir, ingrese la palabra: done\n",
      "['Tierra', 'Jupiter', 'Saturno', 'Urano', 'Neptuno', 'done']\n"
     ]
    }
   ],
   "source": [
    "#Comenzando con las variables que acabas de crear, crearás un ciclo while. El ciclo while se ejecutará mientras\n",
    "# el new_planet no sea igual a la palabra 'done'.\n",
    "#\n",
    "#Dentro del ciclo, comprobarás si la variable new_planet contiene un valor, que debería ser el nombre de un\n",
    "# planeta. Esta es una forma rápida de ver si el usuario ha introducido un valor.\n",
    "# Si lo han hecho, tu código agregará (append) ese valor a la variable planets.\n",
    "#\n",
    "#Finalmente, usarás input para solicitar al usuario que ingrese un nuevo nombre de planeta o que escriba\n",
    "# done si ha terminado de ingresar nombres de planeta. Almacenará el valor de input en la variable new_planet.\n",
    "print(\"Para salir, ingrese la palabra: done\")\n",
    "while new_planet != 'done':\n",
    "    new_planet=input('Ingrese el nombre de un planeta')\n",
    "    if new_planet:\n",
    "        planets.append(new_planet)\n",
    "print(planets)\n",
    "\n",
    "    "
   ]
  },
  {
   "cell_type": "markdown",
   "metadata": {},
   "source": [
    "Ejercicio 2: Creación de un ciclo \"for\""
   ]
  },
  {
   "cell_type": "code",
   "execution_count": 22,
   "metadata": {},
   "outputs": [
    {
     "name": "stdout",
     "output_type": "stream",
     "text": [
      "Tierra\n",
      "Jupiter\n",
      "Saturno\n",
      "Urano\n",
      "Neptuno\n",
      "done\n"
     ]
    }
   ],
   "source": [
    "#Crea un ciclo for para iterar sobre la lista planets. Puedes usar como nombre de la variable\n",
    "# planet para cada planeta. Dentro del ciclo for, recuerda utilizar print para mostrar cada planet.\n",
    "# Escribe tu ciclo for para iterar en una lista de planetas\n",
    "\n",
    "for planet in planets:\n",
    "    print(planet)\n"
   ]
  }
 ],
 "metadata": {
  "interpreter": {
   "hash": "9dd94bd980b5e80bf82f6e7771f6f3bd364316cfb59f0f30ea22e6cee937387b"
  },
  "kernelspec": {
   "display_name": "Python 3.10.2 64-bit",
   "language": "python",
   "name": "python3"
  },
  "language_info": {
   "codemirror_mode": {
    "name": "ipython",
    "version": 3
   },
   "file_extension": ".py",
   "mimetype": "text/x-python",
   "name": "python",
   "nbconvert_exporter": "python",
   "pygments_lexer": "ipython3",
   "version": "3.10.2"
  },
  "orig_nbformat": 4
 },
 "nbformat": 4,
 "nbformat_minor": 2
}
