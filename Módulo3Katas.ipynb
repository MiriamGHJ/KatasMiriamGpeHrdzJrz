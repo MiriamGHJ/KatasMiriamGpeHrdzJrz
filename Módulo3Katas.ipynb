{
 "cells": [
  {
   "cell_type": "code",
   "execution_count": 3,
   "metadata": {},
   "outputs": [
    {
     "name": "stdout",
     "output_type": "stream",
     "text": [
      "es menor\n"
     ]
    }
   ],
   "source": [
    "d=3\n",
    "b=4 \n",
    "if d <= b:\n",
    "    print(\"es menor\")\n",
    "else:\n",
    "    print(\"ninguno\")"
   ]
  },
  {
   "cell_type": "code",
   "execution_count": 15,
   "metadata": {},
   "outputs": [
    {
     "name": "stdout",
     "output_type": "stream",
     "text": [
      "ooo\n",
      "iguales\n"
     ]
    }
   ],
   "source": [
    "d=3\n",
    "b=4 \n",
    "c=7\n",
    "if b==0:   #falso\n",
    " if d <= b:  \n",
    "    print(\"www\")    \n",
    "elif  b >= 4:  #falso\n",
    "    print(\"ooo\")\n",
    "    if 7==c:\n",
    "        print(\"iguales\")\n",
    "    else:\n",
    "        print(\"no son iguales\")\n",
    "\n",
    "else:\n",
    "    print(\"ninguno\") #verdadero"
   ]
  },
  {
   "cell_type": "code",
   "execution_count": 18,
   "metadata": {},
   "outputs": [
    {
     "name": "stdout",
     "output_type": "stream",
     "text": [
      "Alerta se aproxima un asteroide que viaja a una velocidad: 50km/s\n"
     ]
    }
   ],
   "source": [
    "#Para este ejercicio, escribirás una lógica condicional que imprima una advertencia si un asteroide se acerca a la\n",
    "#Tierra demasiado rápido. La velocidad del asteroide varía dependiendo de lo cerca que esté del sol, y cualquier\n",
    "# velocidad superior a 25 kilómetros por segundo (km/s) merece una advertencia.\n",
    "#Un asteroide se acerca, y viaja a una velocidad de 49 km/s.\n",
    "\n",
    "#Si el asteroide tiene una velocidad mayor a 25 \n",
    "# >  mayor que \n",
    "\n",
    "v=50\n",
    "if v>25:\n",
    "    print(\"Alerta se aproxima un asteroide que viaja a una velocidad: \"+ str(v) + \"km/s\")\n",
    "else:\n",
    "    print(\"Se aproxima un asteroide que viaja a una velocidad: \"+ str(v) + \"km/s\")"
   ]
  },
  {
   "cell_type": "code",
   "execution_count": 24,
   "metadata": {},
   "outputs": [
    {
     "name": "stdout",
     "output_type": "stream",
     "text": [
      "Sin alertas\n"
     ]
    }
   ],
   "source": [
    "#Si un asteroide entra en la atmósfera de la Tierra a una velocidad mayor o igual a 20 km/s, a veces produce un rayo de\n",
    "#luz que se puede ver desde la Tierra. Escribe la lógica condicional que usa declaraciones if, else, y elif para\n",
    "#alertar a las personas de todo el mundo que deben buscar un asteroide en el cielo. ¡Hay uno que se dirige a la tierra\n",
    "#ahora a una velocidad de 19 km/s!\n",
    "\n",
    "# velocidad mayor o igual a 20 \n",
    "#v=19 \n",
    "# v>=20 si velocidad es mayor o igual a 20? alertar que vean al cielo\n",
    "\n",
    "v=19\n",
    "\n",
    "if v>20:\n",
    "    print(\"¡Alerta mundial se aproxima un asteroide! ¡pueden buscarlo en el cielo como un rayo!\")\n",
    "elif v==20:\n",
    "    print(\"Se aproxima un asteroide con velicidad: \"+ str(v)+ \"km/s\")\n",
    "else: \n",
    "    print(\"Sin alertas\")\n"
   ]
  },
  {
   "cell_type": "code",
   "execution_count": 18,
   "metadata": {},
   "outputs": [
    {
     "name": "stdout",
     "output_type": "stream",
     "text": [
      "¡ALERTA! se aproxima un asteroide con: 12m a una velocidad de:28km/s que acabará con la tierra\n"
     ]
    }
   ],
   "source": [
    "#En este ejercicio, aprenderás información más matizada sobre cuándo los asteroides representan un peligro para la\n",
    "# Tierra, y utilizarás esa información para mejorar nuestro sistema de advertencia. Aquí está la nueva información\n",
    "# que necesitas saber:\n",
    "# *Los asteroides de menos de 25 metros en su dimensión más grande probablemente se quemarán a medida que entren en\n",
    "# la atmósfera de la Tierra.\n",
    "# Si una pieza de un asteroide que es más grande que 25 metros pero más pequeña que 1000 metros golpeara la\n",
    "# Tierra, causaría mucho daño.\n",
    "# También discutimos en el ejercicio anterior que:\n",
    "# La velocidad del asteroide varía en función de lo cerca que esté del sol, y cualquier velocidad superior a 25\n",
    "# kilómetros por segundo (km/s) merece una advertencia.\n",
    "# Si un asteroide entra en la atmósfera de la Tierra a una velocidad mayor o igual a 20 km/s, a veces produce un\n",
    "# rayo de luz que se puede ver desde la Tierra.\n",
    "# Usando toda esta información, escribe un programa que emita la advertencia o información correcta a la gente de la\n",
    "# Tierra, según la velocidad y el tamaño de un asteroide. Utiliza instrucciones if, else, y elif, así como\n",
    "# los operadores and y or.\n",
    "\n",
    "#Los asteroides que miden menos de 25 m se quemaran en la atmosfera----- metro<25m\n",
    "#Los asteroides que miden mas que 25 m pero menos que 1000 m  causa daño---- metros>25 y metros<1000\n",
    "#velocidad mayor a 25 merece advertencia\n",
    "#velocidad mayor o igual que 20 produce un rayo de luz\n",
    "#Escribir advertencia segun velocidad y tamaño\n",
    "\n",
    "mtrs=12\n",
    "Ve=28\n",
    "\n",
    "if mtrs>25 or Ve>25:\n",
    "    print(\"¡ALERTA! se aproxima un asteroide con: \" + str(mtrs)+\"m\"+ \" \" + \"a una velocidad de:\" + str(Ve)+ \"km/s\"+ \" que acabará con la tierra\")\n",
    "elif Ve>=25 and mtrs<25:\n",
    "    print(\"¡Alerta mundial se aproxima un asteroide! ¡pueden buscarlo en el cielo como un rayo!\")\n",
    "else:\n",
    "    print(\"Se acerca un asteroide de: \" + str(mtrs) + \"m\" + \" con velocidad de: \"+ str(Ve)+\"km/s. Sin alerta de peligro\")\n",
    "\n",
    "\n",
    "\n",
    "\n",
    "\n",
    "\n"
   ]
  }
 ],
 "metadata": {
  "interpreter": {
   "hash": "9dd94bd980b5e80bf82f6e7771f6f3bd364316cfb59f0f30ea22e6cee937387b"
  },
  "kernelspec": {
   "display_name": "Python 3.10.2 64-bit",
   "language": "python",
   "name": "python3"
  },
  "language_info": {
   "codemirror_mode": {
    "name": "ipython",
    "version": 3
   },
   "file_extension": ".py",
   "mimetype": "text/x-python",
   "name": "python",
   "nbconvert_exporter": "python",
   "pygments_lexer": "ipython3",
   "version": "3.10.2"
  },
  "orig_nbformat": 4
 },
 "nbformat": 4,
 "nbformat_minor": 2
}
