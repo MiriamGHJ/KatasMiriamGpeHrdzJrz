{
 "cells": [
  {
   "cell_type": "code",
   "execution_count": 104,
   "metadata": {},
   "outputs": [],
   "source": [
    "#Ejercicio: Uso de funciones en Python\n",
    "#Ejercicio 1: Trabajar con argumentos en funciones\n",
    "#Comienza por crear una función que necesite tres lecturas de combustible y devuelva un informe:\n",
    "# Función para leer 3 tanques de combustible y muestre el promedio\n",
    "\n",
    "def inf(lec1,lec2,lec3):\n",
    "    t=(lec1+lec2+lec3)/3\n",
    "    return f\"\"\"Informe de tanques\n",
    "    Tanque 1: {lec1}%\n",
    "    Tanque 2: {lec2}%\n",
    "    Tanque 3: {lec3}%\n",
    "    Porcentaje total: {round(t)}%\"\"\"\n",
    "    "
   ]
  },
  {
   "cell_type": "code",
   "execution_count": 105,
   "metadata": {},
   "outputs": [
    {
     "name": "stdout",
     "output_type": "stream",
     "text": [
      "Informe de tanques\n",
      "    Tanque 1: 150%\n",
      "    Tanque 2: 45%\n",
      "    Tanque 3: 36%\n",
      "    Porcentaje total: 77%\n"
     ]
    }
   ],
   "source": [
    "# Llamamos a la función que genera el reporte print(funcion(tanque1, tanque2, tanque3))\n",
    "print(inf(150,45,36))"
   ]
  },
  {
   "cell_type": "code",
   "execution_count": 106,
   "metadata": {},
   "outputs": [],
   "source": [
    "def prom(val):\n",
    "    total=sum(val)\n",
    "    return total/(len(val))\n",
    "    "
   ]
  },
  {
   "cell_type": "code",
   "execution_count": 107,
   "metadata": {},
   "outputs": [
    {
     "data": {
      "text/plain": [
       "59.333333333333336"
      ]
     },
     "execution_count": 107,
     "metadata": {},
     "output_type": "execute_result"
    }
   ],
   "source": [
    "#Función promedio \n",
    "prom([20,58,100])"
   ]
  },
  {
   "cell_type": "code",
   "execution_count": 108,
   "metadata": {},
   "outputs": [],
   "source": [
    "# Actualiza la función\n",
    "def inf(lec1,lec2,lec3):\n",
    "    t=(lec1+lec2+lec3)/3\n",
    "    return f\"\"\"Informe de tanques\n",
    "        Tanque 1: {lec1}%\n",
    "        Tanque 2: {lec2}%\n",
    "        Tanque 3: {lec3}%\n",
    "        Promedio: {prom([lec1,lec2,lec3])}%\"\"\"\n",
    "        \n",
    "    "
   ]
  },
  {
   "cell_type": "code",
   "execution_count": 109,
   "metadata": {},
   "outputs": [
    {
     "name": "stdout",
     "output_type": "stream",
     "text": [
      "Informe de tanques\n",
      "        Tanque 1: 34%\n",
      "        Tanque 2: 67%\n",
      "        Tanque 3: 267%\n",
      "        Promedio: 122.66666666666667%\n"
     ]
    }
   ],
   "source": [
    "print(inf(34,67,267))"
   ]
  },
  {
   "cell_type": "markdown",
   "metadata": {},
   "source": [
    "Ejercicio 2: Trabajo con argumentos de palabra clave\n",
    "\n",
    "Ejercicio : Trabajar con argumentos de palabras clave en funciones"
   ]
  },
  {
   "cell_type": "code",
   "execution_count": 110,
   "metadata": {},
   "outputs": [
    {
     "name": "stdout",
     "output_type": "stream",
     "text": [
      " Informe de la mision Luna\n",
      "    Hora de prelanzamiento: 14\n",
      "    combustible a la izquierda: 500000\n",
      "    Tiempo total de vuelo: 65  \n",
      " \n"
     ]
    }
   ],
   "source": [
    "# Función con un informe preciso de la misión. Considera hora de prelanzamiento, tiempo de vuelo, destino,\n",
    "# tanque externo y tanque interno\n",
    "\n",
    "def infP(hp,tv,d,te,ti):\n",
    " return f\"\"\" Informe de la mision {d}\n",
    "    Hora de prelanzamiento: {hp}\n",
    "    combustible a la izquierda: {te+ti}\n",
    "    Tiempo total de vuelo: {hp+tv}  \n",
    " \"\"\"\n",
    "print(infP(14,51, \"Luna\", 200000, 300000))"
   ]
  },
  {
   "cell_type": "code",
   "execution_count": 111,
   "metadata": {},
   "outputs": [
    {
     "name": "stdout",
     "output_type": "stream",
     "text": [
      "\n",
      "    Reporte mision Luna\n",
      "    Tiempo de viajes: 119\n",
      "    Tanques: 52000\n",
      "    \n",
      " \n"
     ]
    }
   ],
   "source": [
    "def reportMision(destino,*minutos,**tanques):\n",
    " return f\"\"\"\n",
    "    Reporte mision {destino}\n",
    "    Tiempo de viajes: {sum(minutos)}\n",
    "    Tanques: {sum(tanques.values())}\n",
    "    \n",
    " \"\"\"\n",
    "print(reportMision(\"Luna\",10,30,45,34,interno=50000,externo=2000))"
   ]
  },
  {
   "cell_type": "code",
   "execution_count": 1,
   "metadata": {},
   "outputs": [
    {
     "name": "stdout",
     "output_type": "stream",
     "text": [
      "Reporte mision Luna\n",
      "    Tiempo de viajes: 85 minutos\n",
      "    Tanques: 75000   \n",
      "  \n",
      "            interno tiene---> 50000 galones left /n \n",
      "            externo tiene---> 25000 galones left /n \n"
     ]
    }
   ],
   "source": [
    "def reportMision(destino,*mn,**tq):\n",
    " report=f\"\"\"Reporte mision {destino}\n",
    "    Tiempo de viajes: {sum(mn)} minutos\n",
    "    Tanques: {sum(tq.values())}   \n",
    "  \"\"\"\n",
    " for nom, valor in tq.items():\n",
    "            report += f\"\"\"\n",
    "            {nom} tiene---> {valor} galones left /n \"\"\"\n",
    "    \n",
    " return report\n",
    " \n",
    "print(reportMision(\"Luna\",10,15,55,5, interno=50000, externo=25000))"
   ]
  },
  {
   "cell_type": "code",
   "execution_count": null,
   "metadata": {},
   "outputs": [],
   "source": []
  }
 ],
 "metadata": {
  "interpreter": {
   "hash": "9dd94bd980b5e80bf82f6e7771f6f3bd364316cfb59f0f30ea22e6cee937387b"
  },
  "kernelspec": {
   "display_name": "Python 3.10.2 64-bit",
   "language": "python",
   "name": "python3"
  },
  "language_info": {
   "codemirror_mode": {
    "name": "ipython",
    "version": 3
   },
   "file_extension": ".py",
   "mimetype": "text/x-python",
   "name": "python",
   "nbconvert_exporter": "python",
   "pygments_lexer": "ipython3",
   "version": "3.10.2"
  },
  "orig_nbformat": 4
 },
 "nbformat": 4,
 "nbformat_minor": 2
}
