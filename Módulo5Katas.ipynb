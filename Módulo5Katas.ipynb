{
 "cells": [
  {
   "cell_type": "code",
   "execution_count": 7,
   "metadata": {},
   "outputs": [
    {
     "name": "stdout",
     "output_type": "stream",
     "text": [
      "628949330 Kilometros\n",
      "383659091.3 millas\n"
     ]
    }
   ],
   "source": [
    "#Ejercicio1 - Utilizar operadores aritméticos\n",
    "\n",
    "T= 149597870 #km \n",
    "J= 778547200 #km\n",
    "\n",
    "# Calcular la distancia entre planetas\n",
    "\n",
    "D= J-T\n",
    "print(str(D)+\" Kilometros\" )\n",
    "millas= D*0.61\n",
    "print(str(millas)+ \" millas\")"
   ]
  },
  {
   "cell_type": "markdown",
   "metadata": {},
   "source": [
    "Ejercicio 2: convierte cadenas en números y usa valores absolutos"
   ]
  },
  {
   "cell_type": "code",
   "execution_count": 19,
   "metadata": {},
   "outputs": [
    {
     "name": "stdout",
     "output_type": "stream",
     "text": [
      "7888\n",
      "4898.448\n"
     ]
    }
   ],
   "source": [
    "#Usando input, agrega el código para leer la distancia del sol para cada planeta, considerando 2 planetas.\n",
    "\n",
    "v=input(\"Introduzca valor de la distancia del primer planeta :\")\n",
    "v2=input(\"Introduzca valor de la distancia del sol:\")\n",
    "v=int(v)\n",
    "v2=int(v2)\n",
    "\n",
    "# Realizar el cálculo y determinar el valor absoluto\n",
    "\n",
    "Dis=v2-v\n",
    "print(abs(Dis))\n",
    "\n",
    "# Convertir de KM a Millas\n",
    "Mi=Dis*0.621\n",
    "print(abs(Mi))"
   ]
  }
 ],
 "metadata": {
  "interpreter": {
   "hash": "9dd94bd980b5e80bf82f6e7771f6f3bd364316cfb59f0f30ea22e6cee937387b"
  },
  "kernelspec": {
   "display_name": "Python 3.10.2 64-bit",
   "language": "python",
   "name": "python3"
  },
  "language_info": {
   "codemirror_mode": {
    "name": "ipython",
    "version": 3
   },
   "file_extension": ".py",
   "mimetype": "text/x-python",
   "name": "python",
   "nbconvert_exporter": "python",
   "pygments_lexer": "ipython3",
   "version": "3.10.2"
  },
  "orig_nbformat": 4
 },
 "nbformat": 4,
 "nbformat_minor": 2
}
